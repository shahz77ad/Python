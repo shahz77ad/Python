{
 "cells": [
  {
   "cell_type": "code",
   "execution_count": 10,
   "id": "749c1771",
   "metadata": {},
   "outputs": [
    {
     "data": {
      "text/plain": [
       "(1, 2, 3)"
      ]
     },
     "execution_count": 10,
     "metadata": {},
     "output_type": "execute_result"
    }
   ],
   "source": [
    "# Tuples\n",
    "# Tuples are a type of data structure in Python that is similar to lists, but with some key differences.\n",
    "# Tuples are almost exactly the same as lists. They differ in just two ways.\n",
    "#Tuples are often used for functions that have multiple return values.\n",
    "#swapping two variables!\n",
    "# 1: The syntax for creating them uses parentheses instead of square brackets\n",
    "\n",
    "t = (1, 2, 3)\n",
    "#or\n",
    "t = 1, 2, 3\n",
    "t"
   ]
  },
  {
   "cell_type": "code",
   "execution_count": 11,
   "id": "733117b8",
   "metadata": {},
   "outputs": [
    {
     "ename": "TypeError",
     "evalue": "'tuple' object does not support item assignment",
     "output_type": "error",
     "traceback": [
      "\u001b[1;31m---------------------------------------------------------------------------\u001b[0m",
      "\u001b[1;31mTypeError\u001b[0m                                 Traceback (most recent call last)",
      "Cell \u001b[1;32mIn[11], line 2\u001b[0m\n\u001b[0;32m      1\u001b[0m \u001b[38;5;66;03m# 2: They cannot be modified (they are immutable).\u001b[39;00m\n\u001b[1;32m----> 2\u001b[0m t[\u001b[38;5;241m0\u001b[39m] \u001b[38;5;241m=\u001b[39m \u001b[38;5;241m4\u001b[39m\n",
      "\u001b[1;31mTypeError\u001b[0m: 'tuple' object does not support item assignment"
     ]
    }
   ],
   "source": [
    "# 2: They cannot be modified (they are immutable).\n",
    "t[0] = 4\n",
    "# This will raise a TypeError because tuples do not support item assignment.\n",
    "# TypeError: 'tuple' object does not support item assignment"
   ]
  },
  {
   "cell_type": "code",
   "execution_count": null,
   "id": "bca0cf96",
   "metadata": {},
   "outputs": [
    {
     "data": {
      "text/plain": [
       "(1, 2)"
      ]
     },
     "execution_count": 5,
     "metadata": {},
     "output_type": "execute_result"
    }
   ],
   "source": [
    "x=0.5\n",
    "x.as_integer_ratio()\n",
    "# This will return a tuple representing the ratio of the float as a fraction.\n",
    "# (1, 2) means 1/2, (3, 4) means 3/4, etc.\n",
    "# This is useful for converting floating-point numbers to rational numbers.\n"
   ]
  },
  {
   "cell_type": "code",
   "execution_count": null,
   "id": "2ca63528",
   "metadata": {},
   "outputs": [
    {
     "name": "stdout",
     "output_type": "stream",
     "text": [
      "0.5\n"
     ]
    }
   ],
   "source": [
    "#These multiple return values can be individually assigned as follows:\n",
    "\n",
    "numerator, denominator=x.as_integer_ratio()\n",
    "print(numerator/denominator)"
   ]
  },
  {
   "cell_type": "code",
   "execution_count": null,
   "id": "188a2967",
   "metadata": {},
   "outputs": [
    {
     "name": "stdout",
     "output_type": "stream",
     "text": [
      "2 1\n"
     ]
    }
   ],
   "source": [
    "a=1\n",
    "b=2\n",
    "#swapping two variables!    \n",
    "a,b=b,a\n",
    "print(a, b)\n",
    "# This is a common Python idiom for swapping values without needing a temporary variable.\n",
    "# It works because tuples can be unpacked into multiple variables in a single line."
   ]
  },
  {
   "cell_type": "code",
   "execution_count": null,
   "id": "b6444547",
   "metadata": {},
   "outputs": [],
   "source": [
    "#practice \n",
    "def select_second(L):\n",
    "    \"\"\"Return the second element of the given list. If the list has no second\n",
    "    element, return None.\n",
    "    \"\"\"\n",
    "    if len(L)<2:\n",
    "        return None\n",
    "    return L[1]"
   ]
  },
  {
   "cell_type": "code",
   "execution_count": 12,
   "id": "a64f844d",
   "metadata": {},
   "outputs": [],
   "source": [
    "# You are analyzing sports teams. Members of each team are stored in a list. The Coach is the first name in the list, the captain is the second name in the list, and other players are listed after that. These lists are stored in another list, which starts with the best team and proceeds through the list to the worst team last. Complete the function below to select the captain of the worst team.\n",
    "\n",
    "def losing_team_captain(teams):\n",
    "    \"\"\"Given a list of teams, where each team is a list of names, return the 2nd player (captain)\n",
    "    from the last listed team\n",
    "    \"\"\"\n",
    "    return teams[-1][-1]"
   ]
  },
  {
   "cell_type": "code",
   "execution_count": 20,
   "id": "ef7706fb",
   "metadata": {},
   "outputs": [],
   "source": [
    "def purple_shell(racers):\n",
    "    # One slick way to do the swap is x[0], x[-1] = x[-1], x[0].\n",
    "    \"\"\"Given a list of racers, set the first place racer (at the front of the list) to last\n",
    "    place and vice versa.\n",
    "    \n",
    "    >>> r = [\"Mario\", \"Bowser\", \"Luigi\"]\n",
    "    >>> purple_shell(r)\n",
    "    >>> r\n",
    "    [\"Luigi\", \"Bowser\", \"Mario\"]\n",
    "    \"\"\"\n",
    "    temp = racers[0]\n",
    "    racers[0] = racers[-1]\n",
    "    racers[-1] = temp"
   ]
  },
  {
   "cell_type": "code",
   "execution_count": 25,
   "id": "1ba938e9",
   "metadata": {},
   "outputs": [
    {
     "name": "stdout",
     "output_type": "stream",
     "text": [
      "Length of a: 3\n",
      "Length of b: 2\n",
      "Length of c: 0\n",
      "Length of d: 2\n"
     ]
    }
   ],
   "source": [
    "a = [1, 2, 3]\n",
    "b = [1, [2, 3]]\n",
    "c = []\n",
    "d = [1, 2, 3][1:]  # slicing from index 1 → [2, 3]\n",
    "\n",
    "print(\"Length of a:\", len(a))  # 3\n",
    "print(\"Length of b:\", len(b))  # 2\n",
    "print(\"Length of c:\", len(c))  # 0\n",
    "print(\"Length of d:\", len(d))  # 2\n"
   ]
  },
  {
   "cell_type": "code",
   "execution_count": 24,
   "id": "bf984823",
   "metadata": {},
   "outputs": [],
   "source": [
    "def fashionably_late(arrivals, name):\n",
    "    \"\"\"Given an ordered list of arrivals to the party and a name, return whether the guest with that\n",
    "    name was fashionably late.\n",
    "    \"\"\"\n",
    "    order=arrival.index(name)\n",
    "    return order>=len(arrivals)/2 and order!=len(arrivals)-1"
   ]
  }
 ],
 "metadata": {
  "kernelspec": {
   "display_name": "base",
   "language": "python",
   "name": "python3"
  },
  "language_info": {
   "codemirror_mode": {
    "name": "ipython",
    "version": 3
   },
   "file_extension": ".py",
   "mimetype": "text/x-python",
   "name": "python",
   "nbconvert_exporter": "python",
   "pygments_lexer": "ipython3",
   "version": "3.13.5"
  }
 },
 "nbformat": 4,
 "nbformat_minor": 5
}
