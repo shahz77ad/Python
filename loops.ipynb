{
 "cells": [
  {
   "cell_type": "code",
   "execution_count": 20,
   "id": "ffa7ce6a",
   "metadata": {},
   "outputs": [
    {
     "name": "stdout",
     "output_type": "stream",
     "text": [
      "Mercury Venus Earth Mars Jupiter Saturn Uranus Neptune "
     ]
    }
   ],
   "source": [
    "# Loops : for and while\n",
    "# Loops are a way to repeatedly execute some code. Here's an example:\n",
    "planets = ['Mercury', 'Venus', 'Earth', 'Mars', 'Jupiter', 'Saturn', 'Uranus', 'Neptune']\n",
    "for planet in planets:\n",
    "    print(planet, end=' ')\n",
    "    #rint(planet, end='\\n')\n",
    "# This will print each planet in the list on the same line, separated by spaces.\n",
    "# The `end=' '` argument specifies that a space should be printed instead of a newline after each planet.\n",
    "# You can also use `end='\\n'` to print each planet on a new line.\n",
    "\n",
    "# The for loop specifies\n",
    "\n",
    "# the variable name to use (in this case, planet)\n",
    "# the set of values to loop over (in this case, planets)\n",
    "# You use the word \"in\" to link them together.\n",
    "\n",
    "# The object to the right of the \"in\" can be any object that supports iteration. Basically, if it can be thought of as a group of things, you can probably loop over it.\n"
   ]
  },
  {
   "cell_type": "code",
   "execution_count": 21,
   "id": "03d80986",
   "metadata": {},
   "outputs": [
    {
     "name": "stdout",
     "output_type": "stream",
     "text": [
      "360\n"
     ]
    }
   ],
   "source": [
    "# In addition to lists, we can iterate over the elements of a tuple:\n",
    "\n",
    "multiplicands = (2, 2, 2, 3, 3, 5)\n",
    "product=1\n",
    "for mult in multiplicands:\n",
    "    product= product * mult\n",
    "print(product)\n",
    "# This will print the product of all the numbers in the tuple."
   ]
  },
  {
   "cell_type": "code",
   "execution_count": 22,
   "id": "b18da7e0",
   "metadata": {},
   "outputs": [
    {
     "name": "stdout",
     "output_type": "stream",
     "text": [
      "HELLO"
     ]
    }
   ],
   "source": [
    "s = 'steganograpHy is the practicE of conceaLing a file, message, image, or video within another fiLe, message, image, Or video.'\n",
    "msg = ''\n",
    "# print all the uppercase letters in s, one at a time\n",
    "for char in s:\n",
    "    if char.isupper():\n",
    "        print(char, end='')  "
   ]
  },
  {
   "cell_type": "code",
   "execution_count": 23,
   "id": "862cc048",
   "metadata": {},
   "outputs": [
    {
     "name": "stdout",
     "output_type": "stream",
     "text": [
      "doing inportant work i= 0\n",
      "doing inportant work i= 1\n",
      "doing inportant work i= 2\n",
      "doing inportant work i= 3\n",
      "doing inportant work i= 4\n"
     ]
    }
   ],
   "source": [
    "# range()¶\n",
    "# range() is a function that returns a sequence of numbers. It turns out to be very useful for writing loops.\n",
    "\n",
    "# For example, if we want to repeat some action 5 times:\n",
    "\n",
    "for i in range(5):\n",
    "    print('doing inportant work i=', i)"
   ]
  },
  {
   "cell_type": "code",
   "execution_count": 24,
   "id": "487bab79",
   "metadata": {},
   "outputs": [
    {
     "name": "stdout",
     "output_type": "stream",
     "text": [
      "0 1 2 3 4 5 6 7 8 9 "
     ]
    }
   ],
   "source": [
    "# while loops¶\n",
    "# The other type of loop in Python is a while loop, which iterates until some condition is met\n",
    "#The argument of the while loop is evaluated as a boolean statement, and the loop is executed until the statement evaluates to False\n",
    "\n",
    "i=0\n",
    "while i<10:\n",
    "    print(i, end=' ')\n",
    "    i+=1 # increase the value of i by 1"
   ]
  },
  {
   "cell_type": "code",
   "execution_count": 25,
   "id": "7add16c0",
   "metadata": {},
   "outputs": [
    {
     "data": {
      "text/plain": [
       "[0, 1, 4, 9, 16, 25, 36, 49, 64, 81]"
      ]
     },
     "execution_count": 25,
     "metadata": {},
     "output_type": "execute_result"
    }
   ],
   "source": [
    "#List comprehensions\n",
    "squares=[n**2 for n in range(10)]\n",
    "squares"
   ]
  },
  {
   "cell_type": "code",
   "execution_count": 26,
   "id": "b2a5fefc",
   "metadata": {},
   "outputs": [
    {
     "data": {
      "text/plain": [
       "[0, 1, 4, 9, 16, 25, 36, 49, 64, 81]"
      ]
     },
     "execution_count": 26,
     "metadata": {},
     "output_type": "execute_result"
    }
   ],
   "source": [
    "#Here's how we would do the same thing without a list comprehension:\n",
    "\n",
    "squares=[]\n",
    "for n in range(10):\n",
    "    squares.append(n**2)\n",
    "squares"
   ]
  },
  {
   "cell_type": "code",
   "execution_count": 27,
   "id": "9ddb15e3",
   "metadata": {},
   "outputs": [
    {
     "data": {
      "text/plain": [
       "['Venus', 'Earth', 'Mars']"
      ]
     },
     "execution_count": 27,
     "metadata": {},
     "output_type": "execute_result"
    }
   ],
   "source": [
    "short_planets=[planet for planet in planets if len(planet)<6]\n",
    "short_planets"
   ]
  },
  {
   "cell_type": "code",
   "execution_count": 28,
   "id": "6295e833",
   "metadata": {},
   "outputs": [
    {
     "data": {
      "text/plain": [
       "['VENUS!', 'EARTH!', 'MARS!']"
      ]
     },
     "execution_count": 28,
     "metadata": {},
     "output_type": "execute_result"
    }
   ],
   "source": [
    "# str.upper() returns an all-caps version of a string\n",
    "shorter_planets=[planet.upper()+'!' for planet in planets if len(planet)<6]\n",
    "shorter_planets\n",
    "\n",
    "#People usually write these on a single line, but i might find the structure clearer when it's split up over 3 lines:\n",
    "[\n",
    "    planet.upper() + '!' \n",
    "    for planet in planets \n",
    "    if len(planet) < 6\n",
    "]"
   ]
  },
  {
   "cell_type": "code",
   "execution_count": 29,
   "id": "5de2f177",
   "metadata": {},
   "outputs": [],
   "source": [
    "def count_negatives(nums):\n",
    "    \"\"\"Return the number of negative numbers in the given list.\n",
    "    \n",
    "    >>> count_negatives([5, -1, -2, 0, 3])\n",
    "    2\n",
    "    \"\"\"\n",
    "    n_negative = 0\n",
    "    for num in nums:\n",
    "        if num < 0:\n",
    "            n_negative = n_negative + 1\n",
    "    return n_negative\n",
    "    print(nums)"
   ]
  },
  {
   "cell_type": "code",
   "execution_count": 30,
   "id": "afc51629",
   "metadata": {},
   "outputs": [],
   "source": [
    "#shorter version\n",
    "def count_negatives(nums):\n",
    "    return len([num for num in nums if num < 0])"
   ]
  },
  {
   "cell_type": "code",
   "execution_count": 31,
   "id": "a33c06f9",
   "metadata": {},
   "outputs": [],
   "source": [
    "#or\n",
    "def count_negatives(nums):\n",
    "    # Reminder: in the \"booleans and conditionals\" exercises, we learned about a quirk of \n",
    "    # Python where it calculates something like True + True + False + True to be equal to 3.\n",
    "    return sum([num < 0 for num in nums])"
   ]
  },
  {
   "cell_type": "code",
   "execution_count": 32,
   "id": "c357e1dd",
   "metadata": {},
   "outputs": [],
   "source": [
    "def has_lucky_number(nums):\n",
    "    \"\"\"Return whether the given list of numbers is lucky. A lucky list contains\n",
    "    at least one number divisible by 7.\n",
    "    \"\"\"\n",
    "    for num in nums:\n",
    "        if num % 7 == 0:\n",
    "            return True\n",
    "    return False  # only return False if no lucky number found\n",
    "\n",
    "#any function\n",
    "def has_lucky_number(nums):\n",
    "    return any([nums%7==0 for num in nums])"
   ]
  },
  {
   "cell_type": "code",
   "execution_count": 33,
   "id": "d02081dc",
   "metadata": {},
   "outputs": [
    {
     "name": "stdout",
     "output_type": "stream",
     "text": [
      "[False, False, True, True]\n"
     ]
    }
   ],
   "source": [
    "def elementwise_greater_than(L, thresh):\n",
    "    res = []\n",
    "    for ele in L:\n",
    "        res.append(ele > thresh)\n",
    "    return res\n",
    "\n",
    "#list comprehension method\n",
    "# def elementwise_greater_than(L,thresh):\n",
    "#     return(ele > thresh for ele in L)\n",
    "print(elementwise_greater_than([1, 2, 3, 4], 2))"
   ]
  },
  {
   "cell_type": "code",
   "execution_count": 34,
   "id": "0b5ab4b6",
   "metadata": {},
   "outputs": [],
   "source": [
    "def menu_is_boring(meals):\n",
    "    # Iterate over all indices of the list, except the last one\n",
    "    for i in range(len(meals)-1):\n",
    "        if meals[i] == meals[i+1]:\n",
    "            return True\n",
    "    return False"
   ]
  },
  {
   "cell_type": "code",
   "execution_count": 35,
   "id": "1859ae42",
   "metadata": {},
   "outputs": [
    {
     "name": "stdout",
     "output_type": "stream",
     "text": [
      "Spin 1: $0\n",
      "Spin 2: $0\n",
      "Spin 3: $0\n",
      "Spin 4: $0\n",
      "Spin 5: $0\n",
      "Spin 6: $0\n",
      "Spin 7: $0\n",
      "Spin 8: $0\n",
      "Spin 9: $0\n",
      "Spin 10: $0\n",
      "0.0003\n"
     ]
    }
   ],
   "source": [
    "import random\n",
    "\n",
    "# Next to the Blackjack table, the Python Challenge Casino has a slot machine. You can get a result from the slot machine by calling play_slot_machine(). The number it returns is your winnings in dollars. Usually it returns 0. But sometimes you'll get lucky and get a big payday. Try running it below:\n",
    "\n",
    "def play_slot_machine():\n",
    "    return 100 if random.random()<0.01 else 0\n",
    "\n",
    "for i in range(10):\n",
    "    print(f\"Spin {i+1}: ${play_slot_machine()}\")\n",
    "\n",
    "\n",
    "# The exact expected value of one pull of the slot machine is 0.025 - i.e. a little more than 2 cents. See? Not every game in the Python Challenge Casino is rigged against the player!\n",
    "\n",
    "# In order to get this answer, you'll need to implement the estimate_average_slot_payout(n_runs) function to simulate pulling the slot machine n_runs times. It should return the payout averaged over those n_runs.\n",
    "\n",
    "# Then, once the function is defined, in order to estimate the average slot payout, we need only call the function.\n",
    "\n",
    "# Because of the high variance of the outcome (there are some very rare high payout results that significantly affect the average) you might need to run your function with a very high value of n_runs to get a stable answer close to the true expectation. For instance, you might use a value for n_runs of 1000000.\n",
    "\n",
    "# Here's an example for how the function could look:\n",
    "\n",
    "def estimate_average_slot_payout(n_runs):\n",
    "    \"\"\"Run the slot machine n_runs times and return the average net profit per run.\n",
    "    Example calls (note that return value is nondeterministic!):\n",
    "    >>> estimate_average_slot_payout(1)\n",
    "    -1\n",
    "    >>> estimate_average_slot_payout(1)\n",
    "    0.5\n",
    "    \"\"\"\n",
    "\n",
    "    # Play slot machine n_runs times, calculate payout of each\n",
    "    payouts=[play_slot_machine()-1 for i in range(n_runs)]\n",
    "    # Calculate the average value\n",
    "    avg_payouts= sum(payouts)/n_runs\n",
    "    return avg_payouts\n",
    "print(estimate_average_slot_payout(10000000))"
   ]
  }
 ],
 "metadata": {
  "kernelspec": {
   "display_name": "base",
   "language": "python",
   "name": "python3"
  },
  "language_info": {
   "codemirror_mode": {
    "name": "ipython",
    "version": 3
   },
   "file_extension": ".py",
   "mimetype": "text/x-python",
   "name": "python",
   "nbconvert_exporter": "python",
   "pygments_lexer": "ipython3",
   "version": "3.13.5"
  }
 },
 "nbformat": 4,
 "nbformat_minor": 5
}
