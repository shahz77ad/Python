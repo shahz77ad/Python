{
 "cells": [
  {
   "cell_type": "code",
   "execution_count": 2,
   "id": "6601d3e7",
   "metadata": {},
   "outputs": [
    {
     "name": "stdout",
     "output_type": "stream",
     "text": [
      "Kaggle Course\n"
     ]
    }
   ],
   "source": [
    "#Print\n",
    "print('Kaggle Course')"
   ]
  },
  {
   "cell_type": "code",
   "execution_count": 3,
   "id": "42d56b10",
   "metadata": {},
   "outputs": [
    {
     "name": "stdout",
     "output_type": "stream",
     "text": [
      "13\n"
     ]
    }
   ],
   "source": [
    "#Addition\n",
    "print(5+8)"
   ]
  },
  {
   "cell_type": "code",
   "execution_count": 4,
   "id": "dbc65b0a",
   "metadata": {},
   "outputs": [
    {
     "name": "stdout",
     "output_type": "stream",
     "text": [
      "7\n"
     ]
    }
   ],
   "source": [
    "#subtraction\n",
    "print(10-3)"
   ]
  },
  {
   "cell_type": "code",
   "execution_count": 5,
   "id": "52bd6a76",
   "metadata": {},
   "outputs": [
    {
     "name": "stdout",
     "output_type": "stream",
     "text": [
      "28\n"
     ]
    }
   ],
   "source": [
    "#Multiplication\n",
    "print(4*7)"
   ]
  },
  {
   "cell_type": "code",
   "execution_count": 6,
   "id": "bd7431f0",
   "metadata": {},
   "outputs": [
    {
     "name": "stdout",
     "output_type": "stream",
     "text": [
      "5.0\n"
     ]
    }
   ],
   "source": [
    "#Division\n",
    "print(20/4)"
   ]
  },
  {
   "cell_type": "code",
   "execution_count": 7,
   "id": "efb48d46",
   "metadata": {},
   "outputs": [
    {
     "name": "stdout",
     "output_type": "stream",
     "text": [
      "8\n"
     ]
    }
   ],
   "source": [
    "#exponent\n",
    "print(2**3) "
   ]
  },
  {
   "cell_type": "code",
   "execution_count": 8,
   "id": "3bb3ef15",
   "metadata": {},
   "outputs": [
    {
     "name": "stdout",
     "output_type": "stream",
     "text": [
      "-80.5\n"
     ]
    }
   ],
   "source": [
    "#PEMDA RULE - LONG CALCULATION\n",
    "print(3+4-5*7/2*5)"
   ]
  },
  {
   "cell_type": "code",
   "execution_count": 9,
   "id": "91287990",
   "metadata": {},
   "outputs": [
    {
     "name": "stdout",
     "output_type": "stream",
     "text": [
      "-52.5\n"
     ]
    }
   ],
   "source": [
    "#PEMDA RULE - LONG CALCULATION\n",
    "print(((3+4)-(5*7)/2)*(5))"
   ]
  },
  {
   "cell_type": "code",
   "execution_count": 10,
   "id": "809faab5",
   "metadata": {},
   "outputs": [
    {
     "name": "stdout",
     "output_type": "stream",
     "text": [
      "8\n",
      "18\n"
     ]
    }
   ],
   "source": [
    "# variable assignment\n",
    "a=3\n",
    "b=5\n",
    "test_var=9*2\n",
    "\n",
    "print(a+b)\n",
    "print(test_var)"
   ]
  },
  {
   "cell_type": "code",
   "execution_count": 11,
   "id": "8652dbba",
   "metadata": {},
   "outputs": [
    {
     "name": "stdout",
     "output_type": "stream",
     "text": [
      "15\n",
      "115\n"
     ]
    }
   ],
   "source": [
    "# different values of a variable\n",
    "a=5\n",
    "b=10\n",
    "print(a+b)\n",
    "#changing values\n",
    "a= 100\n",
    "b= 15\n",
    "print(a+b)"
   ]
  },
  {
   "cell_type": "code",
   "execution_count": 12,
   "id": "9461ac8b",
   "metadata": {},
   "outputs": [
    {
     "name": "stdout",
     "output_type": "stream",
     "text": [
      "100\n",
      "15\n",
      "18\n",
      "100 15 18\n"
     ]
    }
   ],
   "source": [
    "print(a)\n",
    "print(b)\n",
    "print(test_var)\n",
    "print(a, b,test_var)"
   ]
  },
  {
   "cell_type": "code",
   "execution_count": 13,
   "id": "9f799949",
   "metadata": {},
   "outputs": [
    {
     "name": "stdout",
     "output_type": "stream",
     "text": [
      "21\n"
     ]
    }
   ],
   "source": [
    "# Increase the value by 3\n",
    "test_var = test_var + 3\n",
    "print(test_var) "
   ]
  },
  {
   "cell_type": "code",
   "execution_count": 14,
   "id": "9f506240",
   "metadata": {},
   "outputs": [
    {
     "name": "stdout",
     "output_type": "stream",
     "text": [
      "613059840000\n"
     ]
    }
   ],
   "source": [
    "# Create variables- calculate my age\n",
    "num_year=27\n",
    "months_in_year=12\n",
    "days_in_year=365\n",
    "hours_in_day=24\n",
    "minutes_in_hour=60\n",
    "seconds_in_minute=60\n",
    "#age calcultor\n",
    "my_age= num_year * months_in_year * days_in_year * hours_in_day * minutes_in_hour * seconds_in_minute*seconds_in_minute\n",
    "print(my_age)"
   ]
  },
  {
   "cell_type": "code",
   "execution_count": 15,
   "id": "6ec32c16",
   "metadata": {},
   "outputs": [
    {
     "name": "stdout",
     "output_type": "stream",
     "text": [
      "365\n"
     ]
    }
   ],
   "source": [
    "print(days_in_year)"
   ]
  },
  {
   "cell_type": "code",
   "execution_count": 16,
   "id": "02cb3cd7",
   "metadata": {},
   "outputs": [],
   "source": [
    "# Define the function\n",
    "def add_three(input_var):\n",
    "    output_var = input_var + 3\n",
    "    return output_var\n"
   ]
  },
  {
   "cell_type": "code",
   "execution_count": 17,
   "id": "6343c675",
   "metadata": {},
   "outputs": [
    {
     "name": "stdout",
     "output_type": "stream",
     "text": [
      "13\n"
     ]
    }
   ],
   "source": [
    "# Run the function with 10 as input\n",
    "new_number=add_three(10)\n",
    "# Print the result\n",
    "print(new_number)"
   ]
  },
  {
   "cell_type": "code",
   "execution_count": 18,
   "id": "ade86dd3",
   "metadata": {},
   "outputs": [
    {
     "name": "stdout",
     "output_type": "stream",
     "text": [
      "528.0\n",
      "422.4\n"
     ]
    }
   ],
   "source": [
    "#pay function\n",
    "def get_pay(num_hours):\n",
    "    #pay befor tax\n",
    "    pay_pretax=num_hours * 15\n",
    "    #after tax\n",
    "    pay_aftertax=pay_pretax*(1-0.12)\n",
    "    return pay_aftertax\n",
    "\n",
    "# Calculate pay based on working 40 hours\n",
    "pay_fulltime=get_pay(40)\n",
    "print(pay_fulltime)\n",
    " #pay parttime\n",
    "pay_parttime=get_pay(32)\n",
    "print(pay_parttime)\n"
   ]
  },
  {
   "cell_type": "code",
   "execution_count": 19,
   "id": "5499f223",
   "metadata": {},
   "outputs": [
    {
     "name": "stdout",
     "output_type": "stream",
     "text": [
      "640.0\n"
     ]
    }
   ],
   "source": [
    "#function with more than one arguement\n",
    "def get_pay_with_more_inputs(num_hours, hourly_wage, tax_brakcet):\n",
    "    #pay befor tax\n",
    "    pay_pretax=num_hours*hourly_wage\n",
    "    #after tax\n",
    "    pay_aftertax=pay_pretax*(1-tax_brakcet)\n",
    "    return pay_aftertax\n",
    "\n",
    "higher_pay_aftertax=get_pay_with_more_inputs(40, 20, 0.20)\n",
    "print(higher_pay_aftertax)"
   ]
  },
  {
   "cell_type": "code",
   "execution_count": 20,
   "id": "a0ea8578",
   "metadata": {},
   "outputs": [
    {
     "name": "stdout",
     "output_type": "stream",
     "text": [
      "Hello\n",
      "Good Morning\n"
     ]
    }
   ],
   "source": [
    "# Define the function with no arguments and with no return\n",
    "def print_hello():\n",
    "    print('Hello')\n",
    "    print('Good Morning')\n",
    "# Call the function\n",
    "print_hello()"
   ]
  },
  {
   "cell_type": "code",
   "execution_count": 21,
   "id": "93acb08c",
   "metadata": {},
   "outputs": [
    {
     "name": "stdout",
     "output_type": "stream",
     "text": [
      "170000\n",
      "190000\n",
      "200000\n",
      "210000\n"
     ]
    }
   ],
   "source": [
    "#In the next code cell, create a function `get_expected_cost()` that has two arguments:\n",
    "#- `beds` - number of bedrooms \n",
    "#- `baths` - number of bathrooms\n",
    "\n",
    "#It should return the expected cost of a house with that number of bedrooms and bathrooms.  Assume that:\n",
    "#- the expected cost for a house with 0 bedrooms and 0 bathrooms is `80000`.  \n",
    "#- each bedroom adds `30000` to the expected cost\n",
    "#- each bathroom adds `10000` to the expected cost.\n",
    "# TODO: Complete the function\n",
    "\n",
    "def get_expected_cost(beds,baths):\n",
    "    value= 80000+ 30000*beds+10000*baths\n",
    "    return value\n",
    "\n",
    "# Print the expected cost for different combinations of bedrooms and bathrooms \n",
    "#- Option 1: house with two bedrooms and three bathrooms\n",
    "#- Option 2: house with three bedrooms and two bathrooms\n",
    "#- Option 3: house with three bedrooms and three bathrooms\n",
    "#- Option 4: house with three bedrooms and four bathrooms\n",
    "\n",
    "#Use the `get_expected_cost()` function you defined in question 1 to set `option_1`, `option_2`, `option_3`, and `option_4` to the expected cost of each option.\n",
    "# TODO: Use the get_expected_cost function to fill in each value\n",
    "option_one = get_expected_cost(2,3)\n",
    "option_two =get_expected_cost(3,2)\n",
    "option_three =get_expected_cost(3,3) \n",
    "option_four = get_expected_cost(3,4)\n",
    "# Print the expected cost for each option\n",
    "print(option_one)\n",
    "print(option_two)\n",
    "print(option_three)\n",
    "print(option_four)"
   ]
  },
  {
   "cell_type": "code",
   "execution_count": 22,
   "id": "b3cad88b",
   "metadata": {},
   "outputs": [
    {
     "name": "stdout",
     "output_type": "stream",
     "text": [
      "21.599999999999998\n"
     ]
    },
    {
     "ename": "NameError",
     "evalue": "name 'test_value' is not defined",
     "output_type": "error",
     "traceback": [
      "\u001b[1;31m---------------------------------------------------------------------------\u001b[0m",
      "\u001b[1;31mNameError\u001b[0m                                 Traceback (most recent call last)",
      "Cell \u001b[1;32mIn[22], line 33\u001b[0m\n\u001b[0;32m     26\u001b[0m \u001b[38;5;66;03m#Now say you can no longer buy fractions of a gallon. (For instance, if you need 4.3 gallons to do a project, then you have to buy 5 gallons of paint.)With this new scenario, you will create a new function get_actual_cost that uses the same inputs and calculates the cost of your project.\u001b[39;00m\n\u001b[0;32m     27\u001b[0m \n\u001b[0;32m     28\u001b[0m \u001b[38;5;66;03m#One function that you'll need to use to do this is math.ceil(). We demonstrate usage of this function in the code cell below. It takes as a number as input and rounds the number up to the nearest integer.\u001b[39;00m\n\u001b[0;32m     29\u001b[0m \n\u001b[0;32m     30\u001b[0m \u001b[38;5;66;03m#Run the next code cell to test this function for yourself. Feel free to change the value of test_value and make sure math.ceil() returns the number you expect.\u001b[39;00m\n\u001b[0;32m     32\u001b[0m \u001b[38;5;28;01mimport\u001b[39;00m\u001b[38;5;250m \u001b[39m\u001b[38;5;21;01mmath\u001b[39;00m\n\u001b[1;32m---> 33\u001b[0m result \u001b[38;5;241m=\u001b[39m math\u001b[38;5;241m.\u001b[39mceil(test_value)\n\u001b[0;32m     35\u001b[0m test_value \u001b[38;5;241m=\u001b[39m \u001b[38;5;241m1.7\u001b[39m\n\u001b[0;32m     36\u001b[0m rounded_value\u001b[38;5;241m=\u001b[39mmath\u001b[38;5;241m.\u001b[39mceil(test_value)\n",
      "\u001b[1;31mNameError\u001b[0m: name 'test_value' is not defined"
     ]
    }
   ],
   "source": [
    "#You're a home decorator, and you'd like to use Python to streamline some of your work. Specifically, you're creating a tool that you intend to use to calculate the cost of painting a room.\n",
    "\n",
    "# As a first step, define a function get_cost() that takes as input:\n",
    "# sqft_walls = total square feet of walls to be painted\n",
    "#sqft_ceiling = square feet of ceiling to be painted\n",
    "#sqft_per_gallon = number of square feet that you can cover with one gallon of paint\n",
    "#cost_per_gallon = cost (in dollars) of one gallon of paint\n",
    "\n",
    "#It should return the cost (in dollars) of putting one coat of paint on all walls and the ceiling. Assume you can buy the exact amount of paint that you need, so you can buy partial gallons (e.g., if you need 7.523 gallons, you can buy that exact amount, instead of needing to buy 8 gallons and waste some paint). Do not round your answer.\n",
    "\n",
    "def get_cost(sqft_walls, sqft_ceiling, sqft_per_gallon, cost_per_gallon):\n",
    "    total_sqft=sqft_ceiling+sqft_walls\n",
    "    gallons_needed=total_sqft/sqft_per_gallon\n",
    "    cost=gallons_needed*cost_per_gallon\n",
    "    return cost  \n",
    "\n",
    "#Use the get_cost() function you defined in Question 3 to calculate the cost of applying one coat of paint to a room with:\n",
    "\n",
    "#432 square feet of walls, and\n",
    "#144 square feet of ceiling.\n",
    "#Assume that one gallon of paint covers 400 square feet and costs $15. As in Question 3, assume you can buy partial gallons of paint. Do not round your answer.  \n",
    "\n",
    "project_cost=get_cost(432,144,400,15) \n",
    "print(project_cost)\n",
    "\n",
    "#Now say you can no longer buy fractions of a gallon. (For instance, if you need 4.3 gallons to do a project, then you have to buy 5 gallons of paint.)With this new scenario, you will create a new function get_actual_cost that uses the same inputs and calculates the cost of your project.\n",
    "\n",
    "#One function that you'll need to use to do this is math.ceil(). We demonstrate usage of this function in the code cell below. It takes as a number as input and rounds the number up to the nearest integer.\n",
    "\n",
    "#Run the next code cell to test this function for yourself. Feel free to change the value of test_value and make sure math.ceil() returns the number you expect.\n",
    "\n",
    "import math\n",
    "result = math.ceil(test_value)\n",
    "\n",
    "test_value = 1.7\n",
    "rounded_value=math.ceil(test_value)\n",
    "print(rounded_value)\n",
    "\n",
    "#Use the next code cell to define the function get_actual_cost(). You'll need to use the math.ceil() function to do this.  when answering this question, note that it's completely valid to define a function that makes use of another function. For instance, we can define a function round_up_and_divide_by_two that makes use of the math.ceil function:\n",
    "\n",
    "def round_up_and_divide_by_two(num):\n",
    "    new_value=math.ceil(num)\n",
    "    final_value=new_value/2\n",
    "    return final_value\n",
    "\n",
    "#now get actual cost\n",
    "def get_actual_cost(sqft_walls,sqft_ceiling,sqft_per_gallon,cost_per_gallon):\n",
    "    total_sqft=sqft_ceiling+sqft_walls\n",
    "    gallons_needed=total_sqft/sqft_per_gallon\n",
    "    gallons_needed_rounded=math.ceil(gallons_needed)\n",
    "    cost=gallons_needed_rounded*cost_per_gallon\n",
    "    return cost\n",
    "\n",
    "get_actual_cost_value=get_actual_cost(432,144,400,15)\n",
    "print(get_actual_cost_value)\n",
    "\n",
    "get_actual_cost_value=get_actual_cost(592,288,400,15)\n",
    "print(get_actual_cost_value)"
   ]
  },
  {
   "cell_type": "code",
   "execution_count": null,
   "id": "2237ebff",
   "metadata": {},
   "outputs": [
    {
     "name": "stdout",
     "output_type": "stream",
     "text": [
      "50\n",
      "<class 'int'>\n",
      "3.141592653576895\n",
      "<class 'float'>\n",
      "3.142857142857143\n",
      "<class 'float'>\n",
      "3.14286\n",
      "False\n",
      "<class 'bool'>\n",
      "True\n",
      "<class 'bool'>\n",
      "False\n",
      "<class 'bool'>\n",
      "True\n",
      "<class 'bool'>\n",
      "hello python !\n",
      "<class 'str'>\n",
      "14\n",
      "\n",
      "<class 'str'>\n",
      "0\n",
      "12345.67890\n",
      "<class 'str'>\n",
      "11\n",
      "12345.6789\n",
      "<class 'float'>\n"
     ]
    }
   ],
   "source": [
    "#determine data type\n",
    "\n",
    "#integers\n",
    "x=50\n",
    "print(x)\n",
    "print(type(x))\n",
    "\n",
    "#float\n",
    "one_pi=3.14159265357689509467\n",
    "print(one_pi)\n",
    "print(type(one_pi))\n",
    "\n",
    "another_pi=22/7\n",
    "print(another_pi)\n",
    "print(type(another_pi)) \n",
    "\n",
    "#round() function, Round to 5 decimal places\n",
    "rund_pi=round(another_pi,5)\n",
    "print(rund_pi)\n",
    "\n",
    "#boolean\n",
    "is_raining=False\n",
    "print(is_raining)\n",
    "print(type(is_raining))\n",
    "\n",
    "b_one=(1<4)\n",
    "print(b_one)\n",
    "print(type(b_one))  \n",
    "\n",
    "b_two=5<3\n",
    "print(b_two)\n",
    "print(type(b_two))    \n",
    "\n",
    "b_three= not b_two\n",
    "print(b_three)\n",
    "print(type(b_three))   \n",
    "\n",
    "#string\n",
    "s= 'hello python !'\n",
    "print(s)\n",
    "print(type(s))  \n",
    "\n",
    "#length of string\n",
    "print(len(s))\n",
    "\n",
    "empty_string=''\n",
    "print(empty_string)\n",
    "print(type(empty_string))\n",
    "print(len(empty_string))\n",
    "\n",
    "numerical_string='12345.67890'\n",
    "print(numerical_string)\n",
    "print(type(numerical_string))      \n",
    "print(len(numerical_string))\n",
    "\n",
    "str_to_float=float(numerical_string)\n",
    "print(str_to_float)\n",
    "print(type(str_to_float))         "
   ]
  },
  {
   "cell_type": "code",
   "execution_count": null,
   "id": "3c8538de",
   "metadata": {},
   "outputs": [
    {
     "name": "stdout",
     "output_type": "stream",
     "text": [
      "1234567890\n",
      "<class 'str'>\n",
      "abcdef\n",
      "<class 'str'>\n",
      "lmnolmnolmno\n",
      "<class 'str'>\n",
      "1.4775676\n",
      "<class 'float'>\n",
      "1\n",
      "<class 'int'>\n",
      "1\n",
      "1\n",
      "-3\n",
      "-2\n"
     ]
    }
   ],
   "source": [
    "#on;y can add string or concateate, not possible to do subtraction or division with two strings. You also can't multiply two strings\n",
    "added_string='12345' + '67890'\n",
    "print(added_string)\n",
    "print(type(added_string)) \n",
    "\n",
    "added_string_two= 'abc' + 'def'\n",
    "print(added_string_two)\n",
    "print(type(added_string_two)) \n",
    "\n",
    "concatenated_string= 'lmno'*3\n",
    "print(concatenated_string)\n",
    "print(type(concatenated_string))\n",
    "\n",
    "flt_value=1.4775676\n",
    "print(flt_value)\n",
    "print(type(flt_value))  \n",
    "\n",
    "flt_to_int=int(flt_value)\n",
    "print(flt_to_int)\n",
    "print(type(flt_to_int)) \n",
    "\n",
    "print(int(1.2321))\n",
    "print(int(1.747))\n",
    "print(int(-3.94535))\n",
    "print(int(-2.19774))"
   ]
  },
  {
   "cell_type": "code",
   "execution_count": null,
   "id": "1a0069e9",
   "metadata": {},
   "outputs": [
    {
     "name": "stdout",
     "output_type": "stream",
     "text": [
      "3\n",
      "0\n",
      "-3.1\n",
      "-0.0\n",
      "abc\n",
      "\n",
      "<class 'str'>\n",
      "<class 'str'>\n",
      "0\n",
      "3\n"
     ]
    }
   ],
   "source": [
    "#multiply str boolean integer and float\n",
    "print(3 * True)\n",
    "print(3 * False)\n",
    "print(-3.1 * True)\n",
    "print(-3.1 *False)\n",
    "print(\"abc\" * True)\n",
    "print(\"abc\" * False)\n",
    "print(type(\"abc\" * False))\n",
    "print(type(\"abc\" * True))\n",
    "print(len(\"abc\" * False))\n",
    "print(len(\"abc\" * True))"
   ]
  },
  {
   "cell_type": "code",
   "execution_count": null,
   "id": "6548ebd8",
   "metadata": {},
   "outputs": [],
   "source": [
    "#Use the next code cell to create a function get_expected_cost that takes as input three variables:\n",
    "\n",
    "#beds - number of bedrooms (data type float)\n",
    "#baths - number of bathrooms (data type float)\n",
    "#has_basement - whether or not the house has a basement (data type boolean)\n",
    "#It should return the expected cost of a house with those characteristics. Assume that:\n",
    "\n",
    "#the expected cost for a house with 0 bedrooms and 0 bathrooms, and no basement is 80000,\n",
    "#each bedroom adds 30000 to the expected cost,\n",
    "#each bathroom adds 10000 to the expected cost, and\n",
    "#a basement adds 40000 to the expected cost.\n",
    "\n",
    "def get_expected_cost(beds, baths, has_basement):\n",
    "    value= 80000 + 30000 * beds + 10000 * baths+ (40000*has_basement if has_basement else 0)\n",
    "    return value\n"
   ]
  },
  {
   "cell_type": "code",
   "execution_count": null,
   "id": "a34005ff",
   "metadata": {},
   "outputs": [
    {
     "name": "stdout",
     "output_type": "stream",
     "text": [
      "0\n",
      "1\n",
      "1\n",
      "2\n",
      "3\n",
      "1\n"
     ]
    }
   ],
   "source": [
    "print(False + False)\n",
    "print(True + False)\n",
    "print(False + True)\n",
    "print(True + True)\n",
    "print(False + True + True + True)\n",
    "print(True+False+False+False)"
   ]
  },
  {
   "cell_type": "code",
   "execution_count": null,
   "id": "979d5caa",
   "metadata": {},
   "outputs": [
    {
     "name": "stdout",
     "output_type": "stream",
     "text": [
      "240\n",
      "120\n"
     ]
    }
   ],
   "source": [
    "#You own an online shop where you sell rings with custom engravings. You offer both gold plated and solid gold rings.\n",
    "\n",
    "#Gold plated rings have a base cost of $50, and you charge $7 per engraved unit.\n",
    "#Solid gold rings have a base cost of $100, and you charge $10 per engraved unit.\n",
    "#Spaces and punctuation are counted as engraved units.\n",
    "#Write a function cost_of_project() that takes two arguments:\n",
    "\n",
    "#engraving - a Python string with the text of the engraving\n",
    "#solid_gold - a Boolean that indicates whether the ring is solid gold\n",
    "\n",
    "def cost_of_project(engraving, solid_gold):\n",
    "    cost= solid_gold*(100+10* len(engraving)) + (not solid_gold)*(50+7* len(engraving))\n",
    "    return cost\n",
    "project_one = cost_of_project(\"Charlie+Denver\", True)\n",
    "print(project_one)\n",
    "project_two= cost_of_project('08/10/2000', False)\n",
    "print(project_two)"
   ]
  },
  {
   "cell_type": "code",
   "execution_count": null,
   "id": "c1507ca8",
   "metadata": {},
   "outputs": [
    {
     "name": "stdout",
     "output_type": "stream",
     "text": [
      "False\n",
      "True\n",
      "False\n",
      "True\n",
      "True\n",
      "False\n",
      "True\n",
      "True\n"
     ]
    }
   ],
   "source": [
    "#Conditions and Conditional Statements\n",
    "#Symbol\tMeaning\n",
    "# ==\tequals\n",
    "# !=\tdoes not equal\n",
    "# <\tless than\n",
    "# <=\tless than or equal to\n",
    "# >\tgreater than\n",
    "# >=\tgreater than or equal to\n",
    "var_one = 1\n",
    "var_two = 2\n",
    "\n",
    "print(var_one < 1)\n",
    "print(var_two >= var_one)\n",
    "print(var_one == var_two)\n",
    "print(var_one != var_two)\n",
    "print(var_one <= var_two)\n",
    "print(var_one > var_two)\n",
    "print(var_two >= var_one)           \n",
    "print(var_one == 1)"
   ]
  },
  {
   "cell_type": "code",
   "execution_count": null,
   "id": "ccea4f7b",
   "metadata": {},
   "outputs": [
    {
     "name": "stdout",
     "output_type": "stream",
     "text": [
      "Normal Temperature\n",
      "Fever!\n",
      "Normal Temperature\n",
      "Fever!\n",
      "Normal Temperature\n",
      "Fever!!!!!!!\n",
      "Hypothermia\n"
     ]
    }
   ],
   "source": [
    "#if statement\n",
    "#Initially, message is set to \"Normal temperature\". Then, if temp > 38 is True (e.g., the body temperature is greater than 38°C), the message is updated to \"Fever!\". Otherwise, if temp > 38 is False, then the message is not updated. Finally, message is returned by the function\n",
    "\n",
    "#Note that there are two levels of indentation: The first level of indentation is because we always need to indent the code block inside a function. The second level of indentation is because we also need to indent the code block belonging to the \"if\" statement. (As you'll see, we'll also need to indent the code blocks for \"elif\" and \"else\" statements.)\n",
    "\n",
    "def evaluate_temp(temp):\n",
    "    message='Normal Temperature'\n",
    "    if temp>38:\n",
    "        message='Fever!'\n",
    "    return message\n",
    "    \n",
    "print(evaluate_temp(37))\n",
    "print(evaluate_temp(39))\n",
    "\n",
    "#if else\n",
    "def evaluate_temp_with_else(temp):\n",
    "    if temp>38:\n",
    "        message='Fever!'\n",
    "    else:\n",
    "        message='Normal Temperature'\n",
    "    return message\n",
    "\n",
    "print(evaluate_temp_with_else(37))\n",
    "print(evaluate_temp_with_else(39))  \n",
    "\n",
    "# if elif else\n",
    "def evaluate_temp_with_elif(temp):\n",
    "    if temp>38:\n",
    "        message='Fever!!!!!!!'\n",
    "    elif temp>35:\n",
    "        message='Normal Temperature'\n",
    "    else:\n",
    "        message='Hypothermia'\n",
    "    return message\n",
    "print(evaluate_temp_with_elif(37))\n",
    "print(evaluate_temp_with_elif(39))\n",
    "print(evaluate_temp_with_elif(3))   \n",
    "\n",
    "\n",
    "\n"
   ]
  },
  {
   "cell_type": "code",
   "execution_count": null,
   "id": "6148afcf",
   "metadata": {},
   "outputs": [
    {
     "name": "stdout",
     "output_type": "stream",
     "text": [
      "2250.0\n",
      "4500.0\n"
     ]
    }
   ],
   "source": [
    "#in this next example, say you live in a country with only two tax brackets. Everyone earning less than 12,000 pays 25% in taxes, and anyone earning 12,000 or more pays 30%. The function below calculates how much tax is owed.\n",
    "def give_tax(earnings):\n",
    "    if earnings <12000:\n",
    "        tax_given=earnings*.25\n",
    "    else:\n",
    "        tax_given=earnings*.30\n",
    "    return tax_given\n",
    "\n",
    "ana_tax=give_tax(9000)\n",
    "bob_tax=give_tax(15000)\n",
    "print(ana_tax)\n",
    "print(bob_tax)   "
   ]
  },
  {
   "cell_type": "code",
   "execution_count": null,
   "id": "098097cc",
   "metadata": {},
   "outputs": [
    {
     "name": "stdout",
     "output_type": "stream",
     "text": [
      "8\n",
      "18\n",
      "23\n"
     ]
    }
   ],
   "source": [
    "def add_three_or_eight(number):\n",
    "    if number < 10:\n",
    "        three_eight= number+3\n",
    "    else:\n",
    "        three_eight= number+8\n",
    "    return three_eight\n",
    "print(add_three_or_eight(5))\n",
    "print(add_three_or_eight(10))\n",
    "print(add_three_or_eight(15))"
   ]
  },
  {
   "cell_type": "code",
   "execution_count": null,
   "id": "7fadbb54",
   "metadata": {},
   "outputs": [
    {
     "name": "stdout",
     "output_type": "stream",
     "text": [
      "1.25\n",
      "2.1\n",
      "3\n",
      "5\n"
     ]
    }
   ],
   "source": [
    "#mltiple elif\n",
    "# Dosage is 1.25 ml for anyone under 5.2 kg, Dosage is 10 ml for anyone 21.2 kg or over\n",
    "def get_dose(weight):\n",
    "    if weight < 5.2:\n",
    "       dose=1.25\n",
    "    elif weight<7.5:\n",
    "        dose= 2.1\n",
    "    elif weight<10:\n",
    "        dose=3\n",
    "    else:\n",
    "        dose=5\n",
    "    return dose\n",
    "\n",
    "print(get_dose(4.5))\n",
    "print(get_dose(6.5))\n",
    "print(get_dose(8.5))\n",
    "print(get_dose(12.5))   "
   ]
  },
  {
   "cell_type": "code",
   "execution_count": null,
   "id": "8751028f",
   "metadata": {},
   "outputs": [
    {
     "name": "stdout",
     "output_type": "stream",
     "text": [
      "A\n",
      "B\n",
      "C\n",
      "D\n",
      "F\n"
     ]
    }
   ],
   "source": [
    "#You work at a college admissions office. When inspecting a dataset of college applicants, you notice that some students have represented their grades with letters (\"A\", \"B\", \"C\", \"D\", \"F\"), whereas others have represented their grades with a number between 0 and 100. You realize that for consistency, all of the grades should be formatted in the same way, and you decide to format them all as letters. For the conversion, you decide to assign:\n",
    "# \"A\" - any grade 90-100, inclusive\n",
    "#\"B\" - any grade 80-89, inclusive\n",
    "#\"C\" - any grade 70-79, inclusive\n",
    "#\"D\" - any grade 60-69, inclusive\n",
    "#\"F\" - any grade <60\n",
    "# TODO: Edit the function to return the correct grade for different scores\n",
    "\n",
    "def get_grade(score):\n",
    "    if score>=90 and score<=100:\n",
    "        grade='A'\n",
    "    elif score>=80 and score<=89:\n",
    "        grade='B'           \n",
    "    elif score>=70 and score<=79:\n",
    "        grade='C'\n",
    "    elif score>=60 and score<=69:\n",
    "        grade='D'\n",
    "    else:\n",
    "        grade='F'\n",
    "    return grade\n",
    "print(get_grade(95))\n",
    "print(get_grade(85))\n",
    "print(get_grade(75))\n",
    "print(get_grade(65))\n",
    "print(get_grade(55))"
   ]
  },
  {
   "cell_type": "code",
   "execution_count": null,
   "id": "5e853e84",
   "metadata": {},
   "outputs": [
    {
     "name": "stdout",
     "output_type": "stream",
     "text": [
      "240\n",
      "120\n"
     ]
    }
   ],
   "source": [
    "def cost_of_project(engraving, solid_gold):\n",
    "    if solid_gold== True:\n",
    "        cost= 100 + 10 * len(engraving)\n",
    "    else:\n",
    "        cost= 50 + 7 * len(engraving)\n",
    "    return cost\n",
    "\n",
    "print(cost_of_project(\"Charlie+Denver\", True))\n",
    "print(cost_of_project('08/10/2000', False))"
   ]
  },
  {
   "cell_type": "code",
   "execution_count": null,
   "id": "c4dcc4d2",
   "metadata": {},
   "outputs": [
    {
     "name": "stdout",
     "output_type": "stream",
     "text": [
      "0.0\n",
      "90.0\n",
      "175.0\n",
      "350.0\n"
     ]
    }
   ],
   "source": [
    "#Yu are a programmer at a water agency. Recently, you have been tasked to write a function get_water_bill() that takes as input:\n",
    "\n",
    "#num_gallons = the number of gallons of water that a customer used that month. (This will always be an integer with no decimal part.) It should output the water bill.\n",
    "\n",
    "def get_water_bill(num_gallons):\n",
    "    if num_gallons<=8000:\n",
    "        bill=5*num_gallons/1000\n",
    "    elif num_gallons<=22000:\n",
    "        bill=6*num_gallons/1000\n",
    "    elif num_gallons<=30000:\n",
    "        bill=7*num_gallons/1000\n",
    "    else:\n",
    "        bill=10*num_gallons/1000\n",
    "    return bill\n",
    "\n",
    "print(get_water_ill(0))\n",
    "print(get_water_ill(15000))\n",
    "print(get_water_ill(25000))\n",
    "print(get_water_ill(35000))"
   ]
  },
  {
   "cell_type": "code",
   "execution_count": null,
   "id": "a9e085c8",
   "metadata": {},
   "outputs": [],
   "source": [
    "#You work for a company that provides data services.  For \\\\$100/month, your company provides 15 gigabytes (GB) of data.  Then, any additional data is billed at \\\\$0.10/MB (or \\\\$100/GB, since 1,000 MB are in 1 GB). Use the next code cell to write a function `get_phone_bill()` that takes as input:- `gb` = number of GB that the customer used in a month It should return the customer's total phone bill.\n",
    "\n",
    "def get_phone_bill(gb):\n",
    "    if gb<=15:\n",
    "        bill=100\n",
    "    else:\n",
    "        bill=100+(gb-15)*100\n",
    "    return bill"
   ]
  },
  {
   "cell_type": "code",
   "execution_count": 34,
   "id": "bed12548",
   "metadata": {},
   "outputs": [
    {
     "name": "stdout",
     "output_type": "stream",
     "text": [
      "EXCESO GRASAS SATURADAS / EXCESS SATURATED FAT\n",
      "EXCESO SODIO / EXCESS SODIUM\n",
      "EXCESO GRASAS SATURADAS / EXCESS SATURATED FAT\n",
      "EXCESO GRASAS TRANS / EXCESS TRANS FAT\n",
      "EXCESO SODIO / EXCESS SODIUM\n"
     ]
    }
   ],
   "source": [
    "#In this question, you'll work with a function get_labels() that takes the nutritional details about a food item and prints the needed warning labels. This function takes several inputs:\n",
    "\n",
    "# food_type = one of \"solid\" or \"liquid\"\n",
    "# serving_size = size of one serving (if solid, in grams; if liquid, in milliliters)\n",
    "# calories_per_serving = calories in one serving\n",
    "# saturated_fat_g = grams of saturated fat in one serving\n",
    "# trans_fat_g = grams of trans fat in one serving\n",
    "# sodium_mg = mg of sodium in one serving\n",
    "# sugars_g = grams of sugar in one serving\n",
    "\n",
    "def get_labels(food_type, serving_size, calories_per_serving, saturated_fat_g, trans_fat_g, sodium_mg, sugars_g):\n",
    "# Check for excess sugar\n",
    "    if sugars_g * 4 > 0.1 * calories_per_serving:\n",
    "        print(\"EXCESO AZÚCARES / EXCESS SUGAR\")\n",
    "\n",
    "    # Check for excess saturated fat\n",
    "    if saturated_fat_g * 9 > 0.1 * calories_per_serving:\n",
    "        print(\"EXCESO GRASAS SATURADAS / EXCESS SATURATED FAT\")\n",
    "\n",
    "    # Check for excess trans fat\n",
    "    if trans_fat_g > 0:\n",
    "        print(\"EXCESO GRASAS TRANS / EXCESS TRANS FAT\")\n",
    "\n",
    "    # Check for excess sodium\n",
    "    if sodium_mg > 1.15 * calories_per_serving:\n",
    "        print(\"EXCESO SODIO / EXCESS SODIUM\")\n",
    "\n",
    "    # Check for excess calories\n",
    "    if (food_type == \"solid\" and calories_per_serving >= 275) or \\\n",
    "       (food_type == \"liquid\" and calories_per_serving >= 70):\n",
    "        print(\"EXCESO CALORÍAS / EXCESS CALORIES\")\n",
    "    # Example call:\n",
    "get_labels(\"solid\", 32, 110, 2.5, 0, 400, 1)\n",
    "get_labels('solid',21,68,3,0.2,208,0)\n"
   ]
  },
  {
   "cell_type": "code",
   "execution_count": 79,
   "id": "1657eddd",
   "metadata": {},
   "outputs": [
    {
     "name": "stdout",
     "output_type": "stream",
     "text": [
      "<class 'str'>\n",
      "pink primrose,hard-leaved pocket orchid,canterbury bells,sweet pea,english marigold,tiger lily,moon orchid,bird of paradise,monkshood,globe thistle\n",
      "<class 'list'>\n",
      "['pink primrose', 'hard-leaved pocket orchid', 'canterbury bells', 'sweet pea', 'english marigold', 'tiger lily', 'moon orchid', 'bird of paradise', 'monkshood', 'globe thistle']\n",
      "pink primrose\n",
      "First entry: pink primrose\n",
      "Second entry: hard-leaved pocket orchid\n",
      "Last entry: globe thistle\n",
      "['pink primrose', 'hard-leaved pocket orchid', 'canterbury bells']\n",
      "First three entries: ['pink primrose', 'hard-leaved pocket orchid', 'canterbury bells']\n",
      "Final two entries: ['monkshood', 'globe thistle']\n",
      "['hard-leaved pocket orchid', 'canterbury bells', 'sweet pea', 'english marigold', 'tiger lily', 'moon orchid', 'bird of paradise', 'monkshood']\n",
      "['hard-leaved pocket orchid', 'canterbury bells', 'sweet pea', 'english marigold', 'tiger lily', 'moon orchid', 'bird of paradise', 'monkshood', 'lovely lily']\n",
      "Length of the list: 7\n",
      "Entry at index 2: 172\n",
      "[139, 128]\n",
      "[168, 170]\n",
      "191\n",
      "128\n",
      "1107\n",
      "Average books sold in first five days: 153.8\n",
      "Average sales: 158.14285714285714\n",
      "['stewed meat with onions', 'risotto with trout and shrimp', 'fish soup with cream and onion', 'gyro', 'roasted beet salad']\n",
      "A.B.C.D.E.F.G.H.I.J.K.L.M.N.O.P.Q.R.S.T.U.V.W.X.Y.Z\n",
      "['A', 'B', 'C', 'D', 'E', 'F', 'G', 'H', 'I', 'J', 'K', 'L', 'M', 'N', 'O', 'P', 'Q', 'R', 'S', 'T', 'U', 'V', 'W', 'X', 'Y', 'Z']\n",
      "['Mr. H. Potter', 'The cupboard under the Stairs', '4 Privet Drive', 'Little Whinging', 'Surrey']\n",
      "[False, False, False, True, True]\n",
      "[1, 2, 3, 4, 5]\n",
      "0.03629533421163837\n",
      "0.6615639847417742\n"
     ]
    }
   ],
   "source": [
    "#data structures\n",
    "flowers = \"pink primrose,hard-leaved pocket orchid,canterbury bells,sweet pea,english marigold,tiger lily,moon orchid,bird of paradise,monkshood,globe thistle\"\n",
    "\n",
    "print(type(flowers))\n",
    "print(flowers)\n",
    "\n",
    "flowers_list = [\"pink primrose\", \"hard-leaved pocket orchid\", \"canterbury bells\", \"sweet pea\", \"english marigold\", \"tiger lily\", \"moon orchid\", \"bird of paradise\", \"monkshood\", \"globe thistle\"]\n",
    "\n",
    "print(type(flowers_list))\n",
    "print(flowers_list)\n",
    "\n",
    "len(flowers_list)\n",
    "\n",
    "# Indexing\n",
    "# We can refer to any item in the list according to its position in the list (first, second, third, etc). This is called indexing.\n",
    "\n",
    "# Note that Python uses zero-based indexing, which means that:\n",
    "\n",
    "# to pull the first entry in the list, you use 0,\n",
    "# to pull the second entry in the list, you use 1, and\n",
    "# to pull the final entry in the list, you use one less than the length of the list\n",
    "\n",
    "print(flowers_list[0])\n",
    "print(\"First entry:\", flowers_list[0])\n",
    "print(\"Second entry:\", flowers_list[1])\n",
    "\n",
    "# The list has length ten, so we refer to final entry with 9\n",
    "print(\"Last entry:\", flowers_list[9])\n",
    "\n",
    "# Slicing\n",
    "# You can also pull a segment of a list (for instance, the first three entries or the last two entries). This is called slicing. For instance:\n",
    "\n",
    "# to pull the first x entries, you use [:x], and\n",
    "# to pull the last y entries, you use [-y:]\n",
    "print(flowers_list[:3])\n",
    "print(\"First three entries:\", flowers_list[:3])\n",
    "print(\"Final two entries:\", flowers_list[-2:])\n",
    "\n",
    "# Removing items\n",
    "# Remove an item from a list with .remove(), and put the item you would like to remove in parentheses.\n",
    "\n",
    "flowers_list.remove(\"globe thistle\")\n",
    "flowers_list.remove('pink primrose')\n",
    "print(flowers_list)\n",
    "len(flowers_list)\n",
    "\n",
    "# Adding items\n",
    "# Add an item to a list with .append(), and put the item you would like to add in \n",
    "flowers_list.append('lovely lily')\n",
    "print(flowers_list)\n",
    "\n",
    "hardcover_sales = [139, 128, 172, 139, 191, 168, 170]\n",
    "print(\"Length of the list:\", len(hardcover_sales))\n",
    "print(\"Entry at index 2:\", hardcover_sales[2])\n",
    "print(hardcover_sales[:2])\n",
    "print(hardcover_sales[-2:])\n",
    "print(max(hardcover_sales))\n",
    "print(min(hardcover_sales))\n",
    "print(sum(hardcover_sales))\n",
    "\n",
    "print(\"Average books sold in first five days:\", sum(hardcover_sales[:5])/5)\n",
    "print(\"Average sales:\", sum(hardcover_sales) / len(hardcover_sales))\n",
    "\n",
    "menu = ['stewed meat with onions', 'bean soup', 'risotto with trout and shrimp',\n",
    "       'fish soup with cream and onion', 'gyro']\n",
    "\n",
    "# TODO: remove 'bean soup', and add 'roasted beet salad' to the end of the menu\n",
    "menu.remove('bean soup')\n",
    "menu.append('roasted beet salad')\n",
    "print(menu)\n",
    "\n",
    "alphabet = \"A.B.C.D.E.F.G.H.I.J.K.L.M.N.O.P.Q.R.S.T.U.V.W.X.Y.Z\"\n",
    "alphabet.split('.')\n",
    "print(alphabet)\n",
    "print(alphabet.split('.'))\n",
    "\n",
    "address = \"Mr. H. Potter,The cupboard under the Stairs,4 Privet Drive,Little Whinging,Surrey\"\n",
    "print(address.split(','))\n",
    "\n",
    "test_ratings = [1, 2, 3, 4, 5]\n",
    "test_liked=[i>=4 for i in test_ratings]\n",
    "print(test_liked)  \n",
    "print(test_ratings)\n",
    "\n",
    "# In this question, you'll use this list comprehension to define a function percentage_liked() that takes one argument as input:\n",
    "\n",
    "# ratings: list of ratings that people gave to a movie, where each rating is a number between 1-5, inclusive\n",
    "# We say someone liked the movie, if they gave a rating of either 4 or 5. Your function should return the percentage of people who liked the movie.\n",
    "\n",
    "# For instance, if we supply a value of [1, 2, 3, 4, 5, 4, 5, 1], then 50% (4/8) of the people liked the movie, and the function should return 0.5.\n",
    "\n",
    "# Part of the function has already been completed for you. You need only use list_liked to calculate percentage_liked.\n",
    "\n",
    "def percentage_liked(ratings):\n",
    "    list_liked = [i >= 4 for i in ratings]\n",
    "    percentage_liked=sum(list_liked)/len(list_liked)\n",
    "    return percentage_liked\n",
    "percentage_liked([1, 2, 3, 4, 5, 4, 5, 1])\n",
    "\n",
    "# function percentage_growth() should take two arguments as input:\n",
    "\n",
    "# num_users = Python list with the total number of users each year. So num_users[0] is the total number of users in the first year, num_users[1] is the total number of users in the second year, and so on. The final entry in the list gives the total number of users in the most recently completed year.\n",
    "# yrs_ago = number of years to go back in time when calculating the growth percentage\n",
    "# For instance, say num_users = [920344, 1043553, 1204334, 1458996, 1503323, 1593432, 1623463, 1843064, 1930992, 2001078].\n",
    "\n",
    "# if yrs_ago = 1, we want the function to return a value of about 0.036. This corresponds to a percentage growth of approximately 3.6%, calculated as (2001078 - 1930992)/1930992.\n",
    "# if years_ago = 7, we would want to return approximately 0.66. This corresponds to a percentage growth of approximately 66%, calculated as (2001078 - 1204334)/1204334.\n",
    "\n",
    "def percentage_growth(num_users, yrs_ago):\n",
    "    growth=(num_users[len(num_users)-1]-num_users[len(num_users)-1-yrs_ago])/num_users[len(num_users)-1-yrs_ago]\n",
    "    return growth\n",
    "\n",
    "# Do not change: Variable for calculating some test examples\n",
    "num_users_test = [920344, 1043553, 1204334, 1458996, 1503323, 1593432, 1623463, 1843064, 1930992, 2001078]\n",
    "\n",
    "# Do not change: Should return .036\n",
    "print(percentage_growth(num_users_test, 1))\n",
    "\n",
    "# Do not change: Should return 0.66\n",
    "print(percentage_growth(num_users_test, 7))\n"
   ]
  }
 ],
 "metadata": {
  "kernelspec": {
   "display_name": "base",
   "language": "python",
   "name": "python3"
  },
  "language_info": {
   "codemirror_mode": {
    "name": "ipython",
    "version": 3
   },
   "file_extension": ".py",
   "mimetype": "text/x-python",
   "name": "python",
   "nbconvert_exporter": "python",
   "pygments_lexer": "ipython3",
   "version": "3.13.5"
  }
 },
 "nbformat": 4,
 "nbformat_minor": 5
}
