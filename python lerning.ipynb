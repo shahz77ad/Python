{
 "cells": [
  {
   "cell_type": "code",
   "execution_count": 3,
   "id": "c327d04e",
   "metadata": {},
   "outputs": [],
   "source": [
    "def find_extreme(numbers, find_max=True):\n",
    "    \"\"\"\n",
    "    Finds the maximum or minimum value in a list.\n",
    "    \n",
    "    Parameters:\n",
    "    - numbers: list of numbers\n",
    "    - find_max: True for max, False for min\n",
    "\n",
    "    Returns:\n",
    "    - Maximum or minimum value\n",
    "    \"\"\"\n",
    "    if not numbers:\n",
    "        return None  # or raise an error\n",
    "\n",
    "    extreme = numbers[0]\n",
    "    for num in numbers[1:]:\n",
    "        if find_max and num > extreme:\n",
    "            extreme = num\n",
    "        elif not find_max and num < extreme:\n",
    "            extreme = num\n",
    "    return extreme"
   ]
  },
  {
   "cell_type": "code",
   "execution_count": 2,
   "id": "cd29d54f",
   "metadata": {},
   "outputs": [
    {
     "name": "stdout",
     "output_type": "stream",
     "text": [
      "Max: 10\n",
      "Min: 2\n"
     ]
    }
   ],
   "source": [
    "my_list = [5, 10, 3, 8, 2]\n",
    "\n",
    "max_value = find_extreme(my_list, find_max=True)   # Output: 10\n",
    "min_value = find_extreme(my_list, find_max=False)  # Output: 2\n",
    "\n",
    "print(\"Max:\", max_value)\n",
    "print(\"Min:\", min_value)"
   ]
  }
 ],
 "metadata": {
  "kernelspec": {
   "display_name": "base",
   "language": "python",
   "name": "python3"
  },
  "language_info": {
   "codemirror_mode": {
    "name": "ipython",
    "version": 3
   },
   "file_extension": ".py",
   "mimetype": "text/x-python",
   "name": "python",
   "nbconvert_exporter": "python",
   "pygments_lexer": "ipython3",
   "version": "3.13.5"
  }
 },
 "nbformat": 4,
 "nbformat_minor": 5
}
